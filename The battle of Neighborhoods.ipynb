{
    "nbformat_minor": 1, 
    "cells": [
        {
            "source": "# The battle of Neighborhoods Part 1\n", 
            "cell_type": "markdown", 
            "metadata": {
                "collapsed": true
            }
        }, 
        {
            "source": "Problem:\n         Determination of secure and safe nightspots in the city of Chicago using Machine Learning K-means clustering of neighbourhoods and leveraging of foursquare API location data.\n", 
            "cell_type": "markdown", 
            "metadata": {}
        }, 
        {
            "source": "Discussion of the background:\n       The crime in Chicago has been tracked by the Chicago Police Department's Bureau of Records since the beginning of the 20th century. The city's overall crime rate, especially the violent crime rate, is higher than the US average. Chicago was responsible for nearly half of 2016's increase in homicides in the US, though the nation's crime rates remain near historic lows. The reasons for the higher numbers in Chicago remain unclear.\nDespite the high crime rate mention above, the city of Chicago has amazing nightclub life with spots like: Smart Bar, Tao Chicago, etc. \nTherefore, this capstone projects aims at determining intuitively night clubs with in the neighbourhoods of Chicago with their associated crime rate.\n", 
            "cell_type": "markdown", 
            "metadata": {}
        }, 
        {
            "source": "Data sources:\n   The data about Chicago crime can be access via the link below:\nURL: https://data.cityofchicago.org/api/views/ijzp-q8t2/rows.csv?accessType=DOWNLOAD\nThe data set includes the following attributes: ID, Case Number, Description, Location Description, Latitudes and Longitudes, Location description among others. This will be tagged with location data about Night clubs from foursquare API.\nData Analysis with then be generated using python pandas and Machine learning classification techniques, mainly, K-mean and clusters will be rendered using folium.\n", 
            "cell_type": "markdown", 
            "metadata": {}
        }
    ], 
    "metadata": {
        "kernelspec": {
            "display_name": "Python 3.6", 
            "name": "python3", 
            "language": "python"
        }, 
        "language_info": {
            "mimetype": "text/x-python", 
            "nbconvert_exporter": "python", 
            "version": "3.6.8", 
            "name": "python", 
            "file_extension": ".py", 
            "pygments_lexer": "ipython3", 
            "codemirror_mode": {
                "version": 3, 
                "name": "ipython"
            }
        }
    }, 
    "nbformat": 4
}